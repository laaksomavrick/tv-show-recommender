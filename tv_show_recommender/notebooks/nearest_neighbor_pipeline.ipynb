{
 "cells": [
  {
   "cell_type": "markdown",
   "source": [
    "The barebones nearest neighbor ML model performed the best according to our precision metrics.\n",
    "As such, we're going to refactor the code used in the [exploration](./nearest_neighbor_exploration.ipynb) to accommodate\n",
    "productionizing this code.\n",
    "\n",
    "Our goal will be to develop a simple pipeline that we can iterate on to 1) deploy, and 2) retrain our model."
   ],
   "metadata": {
    "collapsed": false
   }
  },
  {
   "cell_type": "code",
   "execution_count": 14,
   "outputs": [],
   "source": [
    "import numpy as np\n",
    "np.random.seed(42)\n"
   ],
   "metadata": {
    "collapsed": false
   }
  },
  {
   "cell_type": "code",
   "execution_count": 15,
   "outputs": [
    {
     "data": {
      "text/plain": "NearestNeighbors(metric='cosine')",
      "text/html": "<style>#sk-container-id-3 {color: black;}#sk-container-id-3 pre{padding: 0;}#sk-container-id-3 div.sk-toggleable {background-color: white;}#sk-container-id-3 label.sk-toggleable__label {cursor: pointer;display: block;width: 100%;margin-bottom: 0;padding: 0.3em;box-sizing: border-box;text-align: center;}#sk-container-id-3 label.sk-toggleable__label-arrow:before {content: \"▸\";float: left;margin-right: 0.25em;color: #696969;}#sk-container-id-3 label.sk-toggleable__label-arrow:hover:before {color: black;}#sk-container-id-3 div.sk-estimator:hover label.sk-toggleable__label-arrow:before {color: black;}#sk-container-id-3 div.sk-toggleable__content {max-height: 0;max-width: 0;overflow: hidden;text-align: left;background-color: #f0f8ff;}#sk-container-id-3 div.sk-toggleable__content pre {margin: 0.2em;color: black;border-radius: 0.25em;background-color: #f0f8ff;}#sk-container-id-3 input.sk-toggleable__control:checked~div.sk-toggleable__content {max-height: 200px;max-width: 100%;overflow: auto;}#sk-container-id-3 input.sk-toggleable__control:checked~label.sk-toggleable__label-arrow:before {content: \"▾\";}#sk-container-id-3 div.sk-estimator input.sk-toggleable__control:checked~label.sk-toggleable__label {background-color: #d4ebff;}#sk-container-id-3 div.sk-label input.sk-toggleable__control:checked~label.sk-toggleable__label {background-color: #d4ebff;}#sk-container-id-3 input.sk-hidden--visually {border: 0;clip: rect(1px 1px 1px 1px);clip: rect(1px, 1px, 1px, 1px);height: 1px;margin: -1px;overflow: hidden;padding: 0;position: absolute;width: 1px;}#sk-container-id-3 div.sk-estimator {font-family: monospace;background-color: #f0f8ff;border: 1px dotted black;border-radius: 0.25em;box-sizing: border-box;margin-bottom: 0.5em;}#sk-container-id-3 div.sk-estimator:hover {background-color: #d4ebff;}#sk-container-id-3 div.sk-parallel-item::after {content: \"\";width: 100%;border-bottom: 1px solid gray;flex-grow: 1;}#sk-container-id-3 div.sk-label:hover label.sk-toggleable__label {background-color: #d4ebff;}#sk-container-id-3 div.sk-serial::before {content: \"\";position: absolute;border-left: 1px solid gray;box-sizing: border-box;top: 0;bottom: 0;left: 50%;z-index: 0;}#sk-container-id-3 div.sk-serial {display: flex;flex-direction: column;align-items: center;background-color: white;padding-right: 0.2em;padding-left: 0.2em;position: relative;}#sk-container-id-3 div.sk-item {position: relative;z-index: 1;}#sk-container-id-3 div.sk-parallel {display: flex;align-items: stretch;justify-content: center;background-color: white;position: relative;}#sk-container-id-3 div.sk-item::before, #sk-container-id-3 div.sk-parallel-item::before {content: \"\";position: absolute;border-left: 1px solid gray;box-sizing: border-box;top: 0;bottom: 0;left: 50%;z-index: -1;}#sk-container-id-3 div.sk-parallel-item {display: flex;flex-direction: column;z-index: 1;position: relative;background-color: white;}#sk-container-id-3 div.sk-parallel-item:first-child::after {align-self: flex-end;width: 50%;}#sk-container-id-3 div.sk-parallel-item:last-child::after {align-self: flex-start;width: 50%;}#sk-container-id-3 div.sk-parallel-item:only-child::after {width: 0;}#sk-container-id-3 div.sk-dashed-wrapped {border: 1px dashed gray;margin: 0 0.4em 0.5em 0.4em;box-sizing: border-box;padding-bottom: 0.4em;background-color: white;}#sk-container-id-3 div.sk-label label {font-family: monospace;font-weight: bold;display: inline-block;line-height: 1.2em;}#sk-container-id-3 div.sk-label-container {text-align: center;}#sk-container-id-3 div.sk-container {/* jupyter's `normalize.less` sets `[hidden] { display: none; }` but bootstrap.min.css set `[hidden] { display: none !important; }` so we also need the `!important` here to be able to override the default hidden behavior on the sphinx rendered scikit-learn.org. See: https://github.com/scikit-learn/scikit-learn/issues/21755 */display: inline-block !important;position: relative;}#sk-container-id-3 div.sk-text-repr-fallback {display: none;}</style><div id=\"sk-container-id-3\" class=\"sk-top-container\"><div class=\"sk-text-repr-fallback\"><pre>NearestNeighbors(metric=&#x27;cosine&#x27;)</pre><b>In a Jupyter environment, please rerun this cell to show the HTML representation or trust the notebook. <br />On GitHub, the HTML representation is unable to render, please try loading this page with nbviewer.org.</b></div><div class=\"sk-container\" hidden><div class=\"sk-item\"><div class=\"sk-estimator sk-toggleable\"><input class=\"sk-toggleable__control sk-hidden--visually\" id=\"sk-estimator-id-3\" type=\"checkbox\" checked><label for=\"sk-estimator-id-3\" class=\"sk-toggleable__label sk-toggleable__label-arrow\">NearestNeighbors</label><div class=\"sk-toggleable__content\"><pre>NearestNeighbors(metric=&#x27;cosine&#x27;)</pre></div></div></div></div></div>"
     },
     "execution_count": 15,
     "metadata": {},
     "output_type": "execute_result"
    },
    {
     "data": {
      "text/plain": "<Figure size 640x480 with 1 Axes>",
      "image/png": "[encoded data removed]"
     },
     "metadata": {},
     "output_type": "display_data"
    }
   ],
   "source": [
    "from sklearn.neighbors import NearestNeighbors\n",
    "from tv_show_recommender.pipelines import get_basic_nn_pipeline\n",
    "from tv_show_recommender.data.functions import get_stratified_data\n",
    "\n",
    "train_set, test_set = get_stratified_data();\n",
    "pipeline = get_basic_nn_pipeline()\n",
    "df = pipeline.fit_transform(train_set)\n",
    "\n",
    "transposed_df = df.T\n",
    "\n",
    "knn = NearestNeighbors(metric='cosine', algorithm='auto')\n",
    "knn.fit(transposed_df)"
   ],
   "metadata": {
    "collapsed": false
   }
  },
  {
   "cell_type": "code",
   "execution_count": 16,
   "outputs": [
    {
     "name": "stdout",
     "output_type": "stream",
     "text": [
      "['Breaking Bad', 'Boardwalk Empire', 'Star Trek: The Next Generation', 'Star Trek: Voyager']\n"
     ]
    }
   ],
   "source": [
    "from tv_show_recommender.data.functions import get_show_data\n",
    "from tv_show_recommender.predictors import predict_nearest_neighbor\n",
    "\n",
    "\n",
    "def get_show_metadata(show_ids = []):\n",
    "    show_data_df = get_show_data()\n",
    "    shows_df = show_data_df.loc[show_data_df['show_id'].isin(show_ids)]\n",
    "    return shows_df['primary_title'].tolist()\n",
    "\n",
    "# The Wire, DS9, The Sopranos\n",
    "liked_shows = [306414, 106145, 141842]\n",
    "\n",
    "similar_show_ids = predict_nearest_neighbor(liked_shows, model=knn, df=df)\n",
    "\n",
    "show_information = get_show_metadata(similar_show_ids)\n",
    "\n",
    "print(show_information)"
   ],
   "metadata": {
    "collapsed": false
   }
  },
  {
   "cell_type": "code",
   "execution_count": 17,
   "outputs": [
    {
     "data": {
      "text/plain": "['tv_show_recommender_nn.joblib']"
     },
     "execution_count": 17,
     "metadata": {},
     "output_type": "execute_result"
    }
   ],
   "source": [
    "# Let's serialize and save the model on our local FS\n",
    "from os.path import abspath, dirname, join\n",
    "\n",
    "from joblib import dump\n",
    "model_filename = 'tv_show_recommender_nn.joblib'\n",
    "\n",
    "dump(knn, model_filename)"
   ],
   "metadata": {
    "collapsed": false
   }
  },
  {
   "cell_type": "markdown",
   "source": [
    "# Now how might our system architecture look like...?\n",
    "\n",
    "Stage 1:\n",
    "\n",
    "```mermaid\n",
    "flowchart\n",
    "\n",
    "    Lambda(Lambda function)\n",
    "    ECR(Container registry)\n",
    "    APIGW(Api Gateway)\n",
    "    DynamoDB(DynamoDB)\n",
    "    Client(Client SPA)\n",
    "\n",
    "\n",
    "    Client --> APIGW\n",
    "    APIGW --> Client\n",
    "\n",
    "    APIGW -->|Request| Lambda\n",
    "    Lambda -->|Response| APIGW\n",
    "    ECR -->|Pulls| Lambda\n",
    "\n",
    "    Lambda -->|Writes new data| DynamoDB\n",
    "    Lambda -->|Reads existing data| DynamoDB\n",
    "```\n",
    "\n",
    "Our mode can be version controlled and included in our Docker container during a CI build step. In our Lambda, we can load it from the local Docker FS and use it to make predictions. So, no Sagemaker. The caveat is that retraining must happen on a local machine and requires a redeployment of our Lambda.\n",
    "\n",
    "Stage 2:\n",
    "\n",
    "```mermaid\n",
    "flowchart\n",
    "\n",
    "    Lambda(Lambda function)\n",
    "    ECR(Container registry)\n",
    "    APIGW(Api Gateway)\n",
    "    DynamoDB(DynamoDB)\n",
    "    S3(S3)\n",
    "    Client(Client SPA)\n",
    "    Cloudwatch(Cloudwatch Event)\n",
    "\n",
    "\n",
    "    SageMakerEndpoint(SageMaker Serverless Model Endpoint)\n",
    "    SageMaker(SageMaker retraining)\n",
    "\n",
    "    Client --> APIGW\n",
    "    APIGW --> Client\n",
    "\n",
    "    APIGW -->|Request| Lambda\n",
    "    Lambda -->|Response| APIGW\n",
    "    ECR -->|Pulls| Lambda\n",
    "\n",
    "    Lambda -->|Writes new data| DynamoDB\n",
    "    Lambda -->|Reads existing data| DynamoDB\n",
    "    Lambda -->|Delegates model inference| SageMakerEndpoint\n",
    "\n",
    "    DynamoDB -->|Exports data| S3\n",
    "\n",
    "    S3 -->|Pulls in data| SageMaker\n",
    "    SageMaker -->|Deploys new model| SageMakerEndpoint\n",
    "\n",
    "    Cloudwatch -->|Triggers| SageMaker\n",
    "```\n",
    "\n",
    "Later, we can delegate serving the model to SageMaker using their serverless offering. Moreover, we can set up automated workflows to retrain and redeploy the model based on some cloudwatch rule (e.g. once per week, once per month). This will let us integrate new data (e.g., new shows to the dataset, new user like relationships) automatically.\n",
    "\n"
   ],
   "metadata": {
    "collapsed": false
   }
  }
 ],
 "metadata": {
  "kernelspec": {
   "display_name": "Python 3",
   "language": "python",
   "name": "python3"
  },
  "language_info": {
   "codemirror_mode": {
    "name": "ipython",
    "version": 2
   },
   "file_extension": ".py",
   "mimetype": "text/x-python",
   "name": "python",
   "nbconvert_exporter": "python",
   "pygments_lexer": "ipython2",
   "version": "2.7.6"
  }
 },
 "nbformat": 4,
 "nbformat_minor": 0
}
